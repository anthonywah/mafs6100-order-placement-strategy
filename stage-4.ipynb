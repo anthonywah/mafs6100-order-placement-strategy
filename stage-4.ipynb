{
 "cells": [
  {
   "cell_type": "markdown",
   "id": "87f228c6-d648-4d34-95a7-3797941c8dba",
   "metadata": {},
   "source": [
    "# Forth Stage"
   ]
  },
  {
   "cell_type": "code",
   "execution_count": null,
   "id": "dfd89ac9-5bd8-45b9-aa3e-a283375ef22e",
   "metadata": {},
   "outputs": [],
   "source": [
    "from get_data import *\n",
    "from simulation import *\n",
    "from optimization import *\n",
    "import matplotlib.pyplot as plt\n",
    "from matplotlib.ticker import MaxNLocator\n",
    "import tqdm\n",
    "import seaborn as sns\n",
    "import os\n",
    "import glob\n",
    "import warnings\n",
    "warnings.filterwarnings('ignore')"
   ]
  },
  {
   "cell_type": "code",
   "execution_count": null,
   "id": "857abb41-3601-4132-be5e-3d5208975bd3",
   "metadata": {},
   "outputs": [],
   "source": [
    "res_dict = {}  # Target dictionary to store results, don't update this dictionary for testing different objective function params"
   ]
  },
  {
   "cell_type": "code",
   "execution_count": null,
   "id": "57abc389-e8ef-4174-8893-4a17a5d0f805",
   "metadata": {},
   "outputs": [],
   "source": [
    "files_df = get_path_df()\n",
    "gb = files_df.groupby(['stock_code', 'side', 'ts', 'tm'])"
   ]
  },
  {
   "cell_type": "markdown",
   "id": "8a9d26fd-5e0a-4b3c-b48d-cc6f9afa6c77",
   "metadata": {
    "tags": []
   },
   "source": [
    "### Optimization Result of 1 Set of Objective Function Params"
   ]
  },
  {
   "cell_type": "code",
   "execution_count": null,
   "id": "38c0f399-e08c-4e26-a4f5-f6b5aba7b675",
   "metadata": {},
   "outputs": [],
   "source": [
    "for k, df in tqdm.tqdm(gb, desc='GettingSimData', ncols=200, total=len(gb.groups)):\n",
    "    \n",
    "    # Get data \n",
    "    if k not in res_dict.keys():\n",
    "        res_dict[k] = get_sim_res(path_ls=df['path'].unique().tolist())\n",
    "        \n",
    "    # EoQ cases\n",
    "    if 'eoq_res' not in res_dict[k].keys():\n",
    "        res_dict[k]['eoq_res'] = get_sim_res(path_ls=df['path'].unique().tolist(), cond=lambda xdf: xdf['eoq_rep'])\n",
    "    eoq_score = obj2(res_dict[k]['eoq_res']['pnl'], res_dict[k]['eoq_res']['duration'], **{'lmda': 1, 't_func': lambda x: np.sqrt(x / 1000.)})\n",
    "    eoq_score = eoq_score[np.logical_and(~np.isnan(eoq_score), ~np.isinf(eoq_score))]\n",
    "    res_dict[k].update({\n",
    "        'eoq_scores': eoq_score, \n",
    "        'eoq_count_k': len(eoq_score) / 1000, \n",
    "        'eoq_score_mean': np.nanmean(eoq_score), \n",
    "        'eoq_score_std': np.nanstd(eoq_score)\n",
    "    })\n",
    "    \n",
    "    # Take cases\n",
    "    if 'take_res' not in res_dict[k].keys():\n",
    "        res_dict[k]['take_res'] = get_sim_res(path_ls=df['path'].unique().tolist(), cond=lambda xdf: xdf['case'] == 'TAKE')\n",
    "    take_score = obj2(res_dict[k]['take_res']['pnl'], res_dict[k]['take_res']['duration'], **{'lmda': 1, 't_func': lambda x: np.sqrt(x / 1000.)})\n",
    "    take_score = take_score[np.logical_and(~np.isnan(take_score), ~np.isinf(take_score))]\n",
    "    res_dict[k].update({\n",
    "        'take_scores': take_score, \n",
    "        'take_count_k': len(take_score) / 1000, \n",
    "        'take_score_mean': np.nanmean(take_score), \n",
    "        'take_score_std': np.nanstd(take_score)\n",
    "    })\n",
    "    \n",
    "    # Calculate score\n",
    "    res_score = obj2(res_dict[k]['pnl'], res_dict[k]['duration'], **{'lmda': 1, 't_func': lambda x: np.sqrt(x / 1000.)})\n",
    "    res_score = res_score[np.logical_and(~np.isnan(res_score), ~np.isinf(res_score))]\n",
    "    res_dict[k].update({\n",
    "        'scores': res_score, \n",
    "        'count_k': len(res_score) / 1000, \n",
    "        'score_mean': np.nanmean(res_score), \n",
    "        'score_std': np.nanstd(res_score), \n",
    "        'eoq_%': len(res_dict[k]['eoq_scores']) / len(res_score), \n",
    "        'take_%': len(res_dict[k]['take_scores']) / len(res_score), \n",
    "    })\n",
    "    \n",
    "    for i in ['eoq_', 'take_', '']:\n",
    "        res_dict[k][f'{i}z_score'] = (res_dict[k][f'{i}score_mean'] + 30) / res_dict[k][f'{i}score_std']"
   ]
  },
  {
   "cell_type": "code",
   "execution_count": null,
   "id": "855997e9-59f1-4dc9-862e-7356deae9ee1",
   "metadata": {},
   "outputs": [],
   "source": [
    "plot_heatmap(stock_code_ls=['0050'], side_ls=['bid'], plot_attri_ls=['z_score', 'score_mean', 'score_std', 'eoq_%', 'take_%'], res_dict=res_dict)"
   ]
  },
  {
   "cell_type": "code",
   "execution_count": null,
   "id": "c090e5bb-d412-43c1-a160-81d9c02e9342",
   "metadata": {},
   "outputs": [],
   "source": []
  },
  {
   "cell_type": "markdown",
   "id": "9056134d-db9c-431f-b618-92fb61d27e76",
   "metadata": {},
   "source": [
    "### Vary Lambda"
   ]
  },
  {
   "cell_type": "code",
   "execution_count": null,
   "id": "50e41be4-31a4-41fb-b099-16a7c0a2b1c7",
   "metadata": {},
   "outputs": [],
   "source": [
    "lmda_ls = list(range(1, 11))\n",
    "for k, df in tqdm.tqdm(gb, desc='VaryingLambda', ncols=200, total=len(gb.groups)):\n",
    "    if k not in res_dict.keys():\n",
    "        res_dict[k] = get_sim_res(path_ls=df['path'].unique().tolist())\n",
    "    obj_kwargs_ls = [{'lmda': i, 't_func': lambda x: np.sqrt(x / 1000.)} for i in lmda_ls]\n",
    "    res_score_ls = [obj2(res_dict[k]['pnl'], res_dict[k]['duration'], **obj_kwargs) for obj_kwargs in obj_kwargs_ls]\n",
    "    res_score_ls = [res_score[np.logical_and(~np.isnan(res_score), ~np.isinf(res_score))] for res_score in res_score_ls]\n",
    "    res_dict[k].update({\n",
    "        'score_ls': res_score_ls, \n",
    "        'score_mean_ls': [np.nanmean(res_score) for res_score in res_score_ls], \n",
    "        'score_std_ls': [np.nanstd(res_score) for res_score in res_score_ls]\n",
    "    })"
   ]
  },
  {
   "cell_type": "code",
   "execution_count": null,
   "id": "92000630-13bc-49ea-9f5c-916a3034fc0c",
   "metadata": {},
   "outputs": [],
   "source": [
    "target_stock_code = '2330'\n",
    "target_side = 'bid'"
   ]
  },
  {
   "cell_type": "code",
   "execution_count": null,
   "id": "58b63983-5376-44c4-8217-b7d7d238588b",
   "metadata": {},
   "outputs": [],
   "source": [
    "plot_key_ls = [(target_stock_code, target_side, str(i), str(i)) for i in range(10, 210, 10)]\n",
    "plot_attri = 'score_mean'\n",
    "fig, ax = plt.subplots(figsize=(22, 8))\n",
    "colors = [(1 - i, 0.5, i / 2) for i in np.linspace(0, 1, len(plot_key_ls))]\n",
    "for i, k in enumerate(plot_key_ls):\n",
    "    plot_line = res_dict[k][f'{plot_attri}_ls']\n",
    "    ax.plot(lmda_ls, plot_line, label='-'.join(k), color=colors[i])\n",
    "ax.set_title(f'{target_stock_code} | {target_side} | X = lambda - Y = {plot_attri}')\n",
    "ax.legend()\n",
    "ax.grid(True)\n",
    "plt.tight_layout()\n",
    "plt.show()"
   ]
  },
  {
   "cell_type": "code",
   "execution_count": null,
   "id": "d817093b-4d8d-4026-a168-598885f7251f",
   "metadata": {},
   "outputs": [],
   "source": [
    "plot_key_ls = [(target_stock_code, target_side, str(i), str(i)) for i in range(10, 210, 10)]\n",
    "plot_attri = 'score_std'\n",
    "fig, ax = plt.subplots(figsize=(22, 8))\n",
    "colors = [(1 - i, 0.5, i / 2) for i in np.linspace(0, 1, len(plot_key_ls))]\n",
    "for i, k in enumerate(plot_key_ls):\n",
    "    plot_line = res_dict[k][f'{plot_attri}_ls']\n",
    "    ax.plot(lmda_ls, plot_line, label='-'.join(k), color=colors[i])\n",
    "ax.set_title(f'{target_stock_code} | {target_side} | X = lambda - Y = {plot_attri}')\n",
    "ax.legend()\n",
    "ax.grid(True)\n",
    "plt.tight_layout()\n",
    "plt.show()"
   ]
  },
  {
   "cell_type": "code",
   "execution_count": null,
   "id": "2bdc5821-fcf2-432e-bc39-a954e92165b2",
   "metadata": {},
   "outputs": [],
   "source": []
  },
  {
   "cell_type": "code",
   "execution_count": null,
   "id": "e46141f8-989d-4815-bf92-6e109c5045bf",
   "metadata": {},
   "outputs": [],
   "source": []
  },
  {
   "cell_type": "code",
   "execution_count": null,
   "id": "46c90f28-7816-4012-b7a6-33415039dfe2",
   "metadata": {},
   "outputs": [],
   "source": []
  },
  {
   "cell_type": "code",
   "execution_count": null,
   "id": "6505e315-f5b9-41cb-b424-1ab6920ea053",
   "metadata": {},
   "outputs": [],
   "source": [
    "plot_key_ls = [(target_stock_code, target_side, str(i), str(i // 2)) for i in range(10, 210, 10)]\n",
    "plot_attri = 'score_mean'\n",
    "fig, ax = plt.subplots(figsize=(22, 8))\n",
    "colors = [(1 - i, 0.5, i / 2) for i in np.linspace(0, 1, len(plot_key_ls))]\n",
    "for i, k in enumerate(plot_key_ls):\n",
    "    plot_line = res_dict[k][f'{plot_attri}_ls']\n",
    "    ax.plot(lmda_ls, plot_line, label='-'.join(k), color=colors[i])\n",
    "ax.set_title(f'{target_stock_code} | {target_side} | X = lambda - Y = {plot_attri}')\n",
    "ax.legend()\n",
    "ax.grid(True)\n",
    "plt.tight_layout()\n",
    "plt.show()"
   ]
  },
  {
   "cell_type": "code",
   "execution_count": null,
   "id": "439265f0-0863-42d4-85cc-0a08fdec9aaa",
   "metadata": {},
   "outputs": [],
   "source": [
    "plot_key_ls = [('2330', 'bid', str(i), str(i)) for i in range(10, 210, 10)]\n",
    "plot_attri = 'score_std'\n",
    "fig, ax = plt.subplots(figsize=(22, 8))\n",
    "colors = [(1 - i, 0.5, i / 2) for i in np.linspace(0, 1, len(plot_key_ls))]\n",
    "for i, k in enumerate(plot_key_ls):\n",
    "    plot_line = res_dict[k][f'{plot_attri}_ls']\n",
    "    ax.plot(lmda_ls, plot_line, label='-'.join(k), color=colors[i])\n",
    "ax.set_title(f'{target_stock_code} | {target_side} | X = lambda - Y = {plot_attri}')\n",
    "ax.legend()\n",
    "ax.grid(True)\n",
    "plt.tight_layout()\n",
    "plt.show()"
   ]
  },
  {
   "cell_type": "code",
   "execution_count": null,
   "id": "bee8914d-6a5d-4a6d-861a-9374944a0f46",
   "metadata": {},
   "outputs": [],
   "source": []
  },
  {
   "cell_type": "code",
   "execution_count": null,
   "id": "16b41077-fd21-46c4-807f-e051eafae116",
   "metadata": {},
   "outputs": [],
   "source": []
  },
  {
   "cell_type": "code",
   "execution_count": null,
   "id": "746ad327-51f8-477c-9964-285cb0485fd3",
   "metadata": {},
   "outputs": [],
   "source": []
  },
  {
   "cell_type": "code",
   "execution_count": null,
   "id": "8634f75e-a522-4915-83f9-7932a6ff2155",
   "metadata": {},
   "outputs": [],
   "source": []
  },
  {
   "cell_type": "code",
   "execution_count": null,
   "id": "7e008f9f-766d-4ecf-8665-71d4ced627a2",
   "metadata": {},
   "outputs": [],
   "source": []
  },
  {
   "cell_type": "code",
   "execution_count": null,
   "id": "6ce4dabc-6b46-4ecc-8bb5-428098806ced",
   "metadata": {},
   "outputs": [],
   "source": []
  }
 ],
 "metadata": {
  "kernelspec": {
   "display_name": "Python 3 (ipykernel)",
   "language": "python",
   "name": "python3"
  },
  "language_info": {
   "codemirror_mode": {
    "name": "ipython",
    "version": 3
   },
   "file_extension": ".py",
   "mimetype": "text/x-python",
   "name": "python",
   "nbconvert_exporter": "python",
   "pygments_lexer": "ipython3",
   "version": "3.8.1"
  }
 },
 "nbformat": 4,
 "nbformat_minor": 5
}
