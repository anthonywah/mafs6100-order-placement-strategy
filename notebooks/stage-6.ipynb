{
 "cells": [
  {
   "cell_type": "markdown",
   "id": "44d6b685-c7bc-4023-8459-6cd831417898",
   "metadata": {},
   "source": [
    "# Sixth Stage"
   ]
  },
  {
   "cell_type": "markdown",
   "id": "82ad659e-7eab-4461-a9c0-66610ef60f83",
   "metadata": {},
   "source": [
    "### Investigate into the impact of flash orders on the simulation results"
   ]
  },
  {
   "cell_type": "code",
   "execution_count": 1,
   "id": "330cde71-00b2-4600-bdfb-4ab35bb98889",
   "metadata": {},
   "outputs": [],
   "source": [
    "import sys\n",
    "sys.path.append('..')\n",
    "from optimization import *\n",
    "from flash_order import *"
   ]
  },
  {
   "cell_type": "code",
   "execution_count": 2,
   "id": "fa08e08c-8075-4f08-a795-ba7fd2a6d35a",
   "metadata": {},
   "outputs": [],
   "source": [
    "target_stock_code = '0050'\n",
    "side = 'bid'\n",
    "ts = 20\n",
    "tm = 10\n",
    "max_dur = 200\n",
    "trick_thres = 100"
   ]
  },
  {
   "cell_type": "code",
   "execution_count": 3,
   "id": "9d44c726-bd02-417f-8494-c170984826db",
   "metadata": {},
   "outputs": [],
   "source": [
    "# First get simulation results\n",
    "sim_res = read_pkl_helper(os.path.join(PROJECT_DIR, f'optres/foms=0/stock_code={target_stock_code}/side={side}/ts={ts}/tm={tm}', 'full_res.pkl'))"
   ]
  },
  {
   "cell_type": "code",
   "execution_count": 4,
   "id": "1cbedbb4-bca6-451c-b707-b3e697974012",
   "metadata": {},
   "outputs": [
    {
     "name": "stderr",
     "output_type": "stream",
     "text": [
      "2022-12-24 04:31:53.239 | INFO     | get_data.py         :   36 | Got cache at /Users/anthonywah/Projects/mafs6100-order-placement-strategy/cache/0050.pkl - 5.81s\n",
      "ClassifyingFlashOrder: 100%|██████████████████████████████████████████████████████████████████████████████████████████████████████████████████████████████████████████| 181/181 [00:08<00:00, 21.72it/s]\n"
     ]
    }
   ],
   "source": [
    "# Get flash orders\n",
    "foc = FlashOrderCalculator(target_stock_code)\n",
    "foc.classify(max_dur_ms=max_dur, trick_trade_thres_ms=trick_thres)"
   ]
  },
  {
   "cell_type": "code",
   "execution_count": 5,
   "id": "ca89758a-5c0c-41dc-84f9-625d32e0613b",
   "metadata": {},
   "outputs": [
    {
     "data": {
      "text/plain": [
       "49945"
      ]
     },
     "execution_count": 5,
     "metadata": {},
     "output_type": "execute_result"
    }
   ],
   "source": [
    "len(sim_res)"
   ]
  },
  {
   "cell_type": "code",
   "execution_count": 6,
   "id": "14111cd0-4ccc-403a-b0a4-0850534a5ef6",
   "metadata": {},
   "outputs": [
    {
     "name": "stderr",
     "output_type": "stream",
     "text": [
      "FindingFlashOrders: 100%|███████████████████████████████████████████████████████████████████████████████████████████████████████████████████████████████████████| 10434/10434 [00:05<00:00, 2073.29it/s]\n"
     ]
    }
   ],
   "source": [
    "# For each simulation round, check if there is a flash order during the order placement period\n",
    "\n",
    "for col in ['fo', 'fo_bid', 'fo_ask']:  # Record matched fo in index lists\n",
    "    if col in sim_res.columns:\n",
    "        sim_res = sim_res.drop(col, axis=1).reset_index(drop=True)\n",
    "    sim_res.loc[:, col] = [[] for i in range(len(sim_res))]\n",
    "\n",
    "one_fod = foc.fod[max_dur][trick_thres]\n",
    "for fo in tqdm.tqdm(one_fod, desc=\"FindingFlashOrders\", ncols=200, total=len(one_fod)):\n",
    "    matched = sim_res.loc[(sim_res['start_ts'] <= fo['start_ms']) & (sim_res['fill_ts'] >= fo['end_ms'])].index\n",
    "    if not len(matched):\n",
    "        continue\n",
    "    \n",
    "    # Store case indexes\n",
    "    for i in matched:\n",
    "        sim_res.at[i, 'fo'].append(fo['case_index'])\n",
    "    \n",
    "    # Side breakdown\n",
    "    if fo['side'] == 'bid':\n",
    "        sim_res.at[i, 'fo_bid'].append(fo['case_index'])\n",
    "    else: \n",
    "        sim_res.at[i, 'fo_ask'].append(fo['case_index'])"
   ]
  },
  {
   "cell_type": "code",
   "execution_count": 7,
   "id": "941c67bf-dc71-4e05-ba5e-2e60a7de8066",
   "metadata": {},
   "outputs": [],
   "source": [
    "# Get simulation rounds with flash orders\n",
    "sim_res_dict = {\n",
    "    'Normal'.ljust(15): sim_res.copy(), \n",
    "    'With FO'.ljust(15): sim_res.loc[sim_res['fo'].apply(len) > 0, :].reset_index(drop=True), \n",
    "    'No FO'.ljust(15): sim_res.loc[sim_res['fo'].apply(len) == 0, :].reset_index(drop=True), \n",
    "    'With bid FO'.ljust(15): sim_res.loc[sim_res['fo_bid'].apply(len) > 0, :].reset_index(drop=True), \n",
    "    'No bid FO'.ljust(15): sim_res.loc[sim_res['fo_bid'].apply(len) == 0, :].reset_index(drop=True), \n",
    "    'With ask FO'.ljust(15): sim_res.loc[sim_res['fo_ask'].apply(len) > 0, :].reset_index(drop=True), \n",
    "    'No ask FO'.ljust(15): sim_res.loc[sim_res['fo_ask'].apply(len) == 0, :].reset_index(drop=True), \n",
    "}"
   ]
  },
  {
   "cell_type": "code",
   "execution_count": 8,
   "id": "ca7b0e03-4672-4208-9bac-dc7c8b2b47a2",
   "metadata": {},
   "outputs": [
    {
     "name": "stderr",
     "output_type": "stream",
     "text": [
      "2022-12-24 04:32:06.953 | INFO     | 652576031.py        :    2 | Cases breakdown: \n",
      "2022-12-24 04:32:06.960 | INFO     | 652576031.py        :    9 | Normal         : Count =   49945 ; INIT =   5.75% ; EOQREP =   4.69% ; REP =  28.66% ; TAKE =  60.90% ; Avg PnL = -2.085 ; Stdev =  3.115\n",
      "2022-12-24 04:32:06.963 | INFO     | 652576031.py        :    9 | With FO        : Count =    4321 ; INIT =   7.94% ; EOQREP =   4.84% ; REP =  34.16% ; TAKE =  53.07% ; Avg PnL = -2.456 ; Stdev =  4.471\n",
      "2022-12-24 04:32:06.969 | INFO     | 652576031.py        :    9 | No FO          : Count =   45624 ; INIT =   5.55% ; EOQREP =   4.67% ; REP =  28.13% ; TAKE =  61.65% ; Avg PnL = -2.049 ; Stdev =  2.953\n",
      "2022-12-24 04:32:06.970 | INFO     | 652576031.py        :    9 | With bid FO    : Count =    1450 ; INIT =   4.41% ; EOQREP =   5.03% ; REP =  20.41% ; TAKE =  70.14% ; Avg PnL = -4.666 ; Stdev =  5.257\n",
      "2022-12-24 04:32:06.976 | INFO     | 652576031.py        :    9 | No bid FO      : Count =   48495 ; INIT =   5.79% ; EOQREP =   4.68% ; REP =  28.90% ; TAKE =  60.63% ; Avg PnL = -2.007 ; Stdev =  2.994\n",
      "2022-12-24 04:32:06.978 | INFO     | 652576031.py        :    9 | With ask FO    : Count =    2894 ; INIT =   9.68% ; EOQREP =   4.98% ; REP =  40.77% ; TAKE =  44.57% ; Avg PnL = -1.361 ; Stdev =  3.543\n",
      "2022-12-24 04:32:06.984 | INFO     | 652576031.py        :    9 | No ask FO      : Count =   47051 ; INIT =   5.51% ; EOQREP =   4.67% ; REP =  27.91% ; TAKE =  61.91% ; Avg PnL = -2.129 ; Stdev =  3.082\n"
     ]
    }
   ],
   "source": [
    "# Calculation % of different fill types\n",
    "log_info(f'Cases breakdown: ')\n",
    "for k, i_sim_res in sim_res_dict.items():\n",
    "    count_dict = i_sim_res.groupby('case')['date'].count().to_dict()\n",
    "    msg = f'{k}: Count = {len(i_sim_res):>7}'\n",
    "    for case in ['INIT', 'EOQREP', 'REP', 'TAKE']:\n",
    "        msg += f' ; {case} = {count_dict.get(case, 0.) * 100 / len(i_sim_res):>6.2f}%'\n",
    "    msg += f' ; Avg PnL = {i_sim_res[\"pnl\"].mean():>6.3f} ; Stdev = {i_sim_res[\"pnl\"].std():>6.3f}'\n",
    "    log_info(msg)"
   ]
  },
  {
   "cell_type": "markdown",
   "id": "6fec5628-a536-445d-81c2-288296d55ca3",
   "metadata": {},
   "source": [
    "---"
   ]
  },
  {
   "cell_type": "markdown",
   "id": "aae0fd52-e0e0-471d-9f5e-355dc7360724",
   "metadata": {},
   "source": [
    "### Compare simulation results with consideration of flash orders"
   ]
  },
  {
   "cell_type": "code",
   "execution_count": 9,
   "id": "183d0b9f-4f21-433c-87e8-3d3618f37166",
   "metadata": {},
   "outputs": [],
   "source": [
    "target_stock_code = '0050'\n",
    "side = 'bid'\n",
    "ts = 20\n",
    "tm = 10\n",
    "foms = 300"
   ]
  },
  {
   "cell_type": "code",
   "execution_count": 13,
   "id": "911d841d-15bb-41da-b415-7c4ec51e8d79",
   "metadata": {},
   "outputs": [
    {
     "data": {
      "text/html": [
       "<div>\n",
       "<style scoped>\n",
       "    .dataframe tbody tr th:only-of-type {\n",
       "        vertical-align: middle;\n",
       "    }\n",
       "\n",
       "    .dataframe tbody tr th {\n",
       "        vertical-align: top;\n",
       "    }\n",
       "\n",
       "    .dataframe thead th {\n",
       "        text-align: right;\n",
       "    }\n",
       "</style>\n",
       "<table border=\"1\" class=\"dataframe\">\n",
       "  <thead>\n",
       "    <tr style=\"text-align: right;\">\n",
       "      <th></th>\n",
       "      <th>foms</th>\n",
       "      <th>stock_code</th>\n",
       "      <th>side</th>\n",
       "      <th>ts</th>\n",
       "      <th>tm</th>\n",
       "      <th>path</th>\n",
       "    </tr>\n",
       "  </thead>\n",
       "  <tbody>\n",
       "    <tr>\n",
       "      <th>0</th>\n",
       "      <td>0</td>\n",
       "      <td>2330</td>\n",
       "      <td>ask</td>\n",
       "      <td>11</td>\n",
       "      <td>5</td>\n",
       "      <td>/Users/anthonywah/Projects/mafs6100-order-plac...</td>\n",
       "    </tr>\n",
       "    <tr>\n",
       "      <th>1</th>\n",
       "      <td>0</td>\n",
       "      <td>2330</td>\n",
       "      <td>ask</td>\n",
       "      <td>11</td>\n",
       "      <td>5</td>\n",
       "      <td>/Users/anthonywah/Projects/mafs6100-order-plac...</td>\n",
       "    </tr>\n",
       "    <tr>\n",
       "      <th>2</th>\n",
       "      <td>0</td>\n",
       "      <td>2330</td>\n",
       "      <td>ask</td>\n",
       "      <td>11</td>\n",
       "      <td>5</td>\n",
       "      <td>/Users/anthonywah/Projects/mafs6100-order-plac...</td>\n",
       "    </tr>\n",
       "    <tr>\n",
       "      <th>3</th>\n",
       "      <td>0</td>\n",
       "      <td>2330</td>\n",
       "      <td>ask</td>\n",
       "      <td>11</td>\n",
       "      <td>5</td>\n",
       "      <td>/Users/anthonywah/Projects/mafs6100-order-plac...</td>\n",
       "    </tr>\n",
       "    <tr>\n",
       "      <th>4</th>\n",
       "      <td>0</td>\n",
       "      <td>2330</td>\n",
       "      <td>ask</td>\n",
       "      <td>11</td>\n",
       "      <td>5</td>\n",
       "      <td>/Users/anthonywah/Projects/mafs6100-order-plac...</td>\n",
       "    </tr>\n",
       "    <tr>\n",
       "      <th>...</th>\n",
       "      <td>...</td>\n",
       "      <td>...</td>\n",
       "      <td>...</td>\n",
       "      <td>...</td>\n",
       "      <td>...</td>\n",
       "      <td>...</td>\n",
       "    </tr>\n",
       "    <tr>\n",
       "      <th>229315</th>\n",
       "      <td>100</td>\n",
       "      <td>0050</td>\n",
       "      <td>bid</td>\n",
       "      <td>5</td>\n",
       "      <td>1</td>\n",
       "      <td>/Users/anthonywah/Projects/mafs6100-order-plac...</td>\n",
       "    </tr>\n",
       "    <tr>\n",
       "      <th>229316</th>\n",
       "      <td>100</td>\n",
       "      <td>0050</td>\n",
       "      <td>bid</td>\n",
       "      <td>5</td>\n",
       "      <td>1</td>\n",
       "      <td>/Users/anthonywah/Projects/mafs6100-order-plac...</td>\n",
       "    </tr>\n",
       "    <tr>\n",
       "      <th>229317</th>\n",
       "      <td>100</td>\n",
       "      <td>0050</td>\n",
       "      <td>bid</td>\n",
       "      <td>5</td>\n",
       "      <td>1</td>\n",
       "      <td>/Users/anthonywah/Projects/mafs6100-order-plac...</td>\n",
       "    </tr>\n",
       "    <tr>\n",
       "      <th>229318</th>\n",
       "      <td>100</td>\n",
       "      <td>0050</td>\n",
       "      <td>bid</td>\n",
       "      <td>5</td>\n",
       "      <td>1</td>\n",
       "      <td>/Users/anthonywah/Projects/mafs6100-order-plac...</td>\n",
       "    </tr>\n",
       "    <tr>\n",
       "      <th>229319</th>\n",
       "      <td>100</td>\n",
       "      <td>0050</td>\n",
       "      <td>bid</td>\n",
       "      <td>5</td>\n",
       "      <td>1</td>\n",
       "      <td>/Users/anthonywah/Projects/mafs6100-order-plac...</td>\n",
       "    </tr>\n",
       "  </tbody>\n",
       "</table>\n",
       "<p>229320 rows × 6 columns</p>\n",
       "</div>"
      ],
      "text/plain": [
       "       foms stock_code side  ts tm  \\\n",
       "0         0       2330  ask  11  5   \n",
       "1         0       2330  ask  11  5   \n",
       "2         0       2330  ask  11  5   \n",
       "3         0       2330  ask  11  5   \n",
       "4         0       2330  ask  11  5   \n",
       "...     ...        ...  ...  .. ..   \n",
       "229315  100       0050  bid   5  1   \n",
       "229316  100       0050  bid   5  1   \n",
       "229317  100       0050  bid   5  1   \n",
       "229318  100       0050  bid   5  1   \n",
       "229319  100       0050  bid   5  1   \n",
       "\n",
       "                                                     path  \n",
       "0       /Users/anthonywah/Projects/mafs6100-order-plac...  \n",
       "1       /Users/anthonywah/Projects/mafs6100-order-plac...  \n",
       "2       /Users/anthonywah/Projects/mafs6100-order-plac...  \n",
       "3       /Users/anthonywah/Projects/mafs6100-order-plac...  \n",
       "4       /Users/anthonywah/Projects/mafs6100-order-plac...  \n",
       "...                                                   ...  \n",
       "229315  /Users/anthonywah/Projects/mafs6100-order-plac...  \n",
       "229316  /Users/anthonywah/Projects/mafs6100-order-plac...  \n",
       "229317  /Users/anthonywah/Projects/mafs6100-order-plac...  \n",
       "229318  /Users/anthonywah/Projects/mafs6100-order-plac...  \n",
       "229319  /Users/anthonywah/Projects/mafs6100-order-plac...  \n",
       "\n",
       "[229320 rows x 6 columns]"
      ]
     },
     "execution_count": 13,
     "metadata": {},
     "output_type": "execute_result"
    }
   ],
   "source": [
    "files_df"
   ]
  },
  {
   "cell_type": "code",
   "execution_count": 10,
   "id": "aece0688-ea4d-46df-8a33-2b85682af399",
   "metadata": {},
   "outputs": [],
   "source": [
    "files_df = get_path_df()\n",
    "\n",
    "# Limit to certain params only\n",
    "files_df = files_df.loc[(files_df['ts'].astype(int) <= 20) & (files_df['tm'].astype(int) <= 20)].reset_index(drop=True)\n",
    "\n",
    "gb = files_df.groupby(['stock_code', 'foms', 'side', 'ts', 'tm'])"
   ]
  },
  {
   "cell_type": "code",
   "execution_count": 11,
   "id": "7cff02ee-4f48-43bf-bb5a-9cfb1ec322a2",
   "metadata": {},
   "outputs": [
    {
     "name": "stderr",
     "output_type": "stream",
     "text": [
      "GettingSimData: 100%|███████████████████████████████████████████████████████████████████████████████████████████████████████████████████████████████████████████████| 1260/1260 [00:13<00:00, 90.95it/s]\n"
     ]
    }
   ],
   "source": [
    "res_dict = {}\n",
    "for k, df in tqdm.tqdm(gb, desc='GettingSimData', ncols=200, total=len(gb.groups)):\n",
    "    if k not in res_dict.keys():\n",
    "        res_dict[k] = get_sim_res(path_ls=df['path'].unique().tolist())"
   ]
  },
  {
   "cell_type": "code",
   "execution_count": 12,
   "id": "f57d46a9-ab0a-4809-b983-7da673df7628",
   "metadata": {},
   "outputs": [
    {
     "ename": "FileNotFoundError",
     "evalue": "[Errno 2] No such file or directory: '/Users/anthonywah/Projects/mafs6100-order-placement-strategy/optres/foms=300/stock_code=0050/side=bid/ts=20/tm=10/full_res.pkl'",
     "output_type": "error",
     "traceback": [
      "\u001b[0;31m---------------------------------------------------------------------------\u001b[0m",
      "\u001b[0;31mFileNotFoundError\u001b[0m                         Traceback (most recent call last)",
      "\u001b[0;32m/var/folders/cw/8dgzy1z54gl3v2mw40fcgpxh0000gp/T/ipykernel_79194/3863390758.py\u001b[0m in \u001b[0;36m<module>\u001b[0;34m\u001b[0m\n\u001b[0;32m----> 1\u001b[0;31m \u001b[0msim_res_w_fo\u001b[0m \u001b[0;34m=\u001b[0m \u001b[0mread_pkl_helper\u001b[0m\u001b[0;34m(\u001b[0m\u001b[0mos\u001b[0m\u001b[0;34m.\u001b[0m\u001b[0mpath\u001b[0m\u001b[0;34m.\u001b[0m\u001b[0mjoin\u001b[0m\u001b[0;34m(\u001b[0m\u001b[0mPROJECT_DIR\u001b[0m\u001b[0;34m,\u001b[0m \u001b[0;34mf'optres/foms={foms}/stock_code={target_stock_code}/side={side}/ts={ts}/tm={tm}'\u001b[0m\u001b[0;34m,\u001b[0m \u001b[0;34m'full_res.pkl'\u001b[0m\u001b[0;34m)\u001b[0m\u001b[0;34m)\u001b[0m\u001b[0;34m\u001b[0m\u001b[0;34m\u001b[0m\u001b[0m\n\u001b[0m\u001b[1;32m      2\u001b[0m \u001b[0msim_res_wo_fo\u001b[0m \u001b[0;34m=\u001b[0m \u001b[0mread_pkl_helper\u001b[0m\u001b[0;34m(\u001b[0m\u001b[0mos\u001b[0m\u001b[0;34m.\u001b[0m\u001b[0mpath\u001b[0m\u001b[0;34m.\u001b[0m\u001b[0mjoin\u001b[0m\u001b[0;34m(\u001b[0m\u001b[0mPROJECT_DIR\u001b[0m\u001b[0;34m,\u001b[0m \u001b[0;34mf'optres/foms=0/stock_code={target_stock_code}/side={side}/ts={ts}/tm={tm}'\u001b[0m\u001b[0;34m,\u001b[0m \u001b[0;34m'full_res.pkl'\u001b[0m\u001b[0;34m)\u001b[0m\u001b[0;34m)\u001b[0m\u001b[0;34m\u001b[0m\u001b[0;34m\u001b[0m\u001b[0m\n",
      "\u001b[0;32m~/Projects/mafs6100-order-placement-strategy/helpers.py\u001b[0m in \u001b[0;36mread_pkl_helper\u001b[0;34m(read_path, **kwargs)\u001b[0m\n\u001b[1;32m     71\u001b[0m \u001b[0;34m\u001b[0m\u001b[0m\n\u001b[1;32m     72\u001b[0m \u001b[0;32mdef\u001b[0m \u001b[0mread_pkl_helper\u001b[0m\u001b[0;34m(\u001b[0m\u001b[0mread_path\u001b[0m\u001b[0;34m,\u001b[0m \u001b[0;34m**\u001b[0m\u001b[0mkwargs\u001b[0m\u001b[0;34m)\u001b[0m\u001b[0;34m:\u001b[0m\u001b[0;34m\u001b[0m\u001b[0;34m\u001b[0m\u001b[0m\n\u001b[0;32m---> 73\u001b[0;31m     \u001b[0;32mwith\u001b[0m \u001b[0mopen\u001b[0m\u001b[0;34m(\u001b[0m\u001b[0mread_path\u001b[0m\u001b[0;34m,\u001b[0m \u001b[0;34m'rb'\u001b[0m\u001b[0;34m)\u001b[0m \u001b[0;32mas\u001b[0m \u001b[0mf\u001b[0m\u001b[0;34m:\u001b[0m\u001b[0;34m\u001b[0m\u001b[0;34m\u001b[0m\u001b[0m\n\u001b[0m\u001b[1;32m     74\u001b[0m         \u001b[0mres\u001b[0m \u001b[0;34m=\u001b[0m \u001b[0mcp\u001b[0m\u001b[0;34m.\u001b[0m\u001b[0mload\u001b[0m\u001b[0;34m(\u001b[0m\u001b[0mf\u001b[0m\u001b[0;34m,\u001b[0m \u001b[0;34m**\u001b[0m\u001b[0mkwargs\u001b[0m\u001b[0;34m)\u001b[0m\u001b[0;34m\u001b[0m\u001b[0;34m\u001b[0m\u001b[0m\n\u001b[1;32m     75\u001b[0m     \u001b[0;32mreturn\u001b[0m \u001b[0mres\u001b[0m\u001b[0;34m\u001b[0m\u001b[0;34m\u001b[0m\u001b[0m\n",
      "\u001b[0;31mFileNotFoundError\u001b[0m: [Errno 2] No such file or directory: '/Users/anthonywah/Projects/mafs6100-order-placement-strategy/optres/foms=300/stock_code=0050/side=bid/ts=20/tm=10/full_res.pkl'"
     ]
    }
   ],
   "source": [
    "sim_res_w_fo = read_pkl_helper(os.path.join(PROJECT_DIR, f'optres/foms={foms}/stock_code={target_stock_code}/side={side}/ts={ts}/tm={tm}', 'full_res.pkl'))\n",
    "sim_res_wo_fo = read_pkl_helper(os.path.join(PROJECT_DIR, f'optres/foms=0/stock_code={target_stock_code}/side={side}/ts={ts}/tm={tm}', 'full_res.pkl'))"
   ]
  },
  {
   "cell_type": "code",
   "execution_count": null,
   "id": "a42cde03-73b0-499b-89ad-756bd7fa2e31",
   "metadata": {},
   "outputs": [],
   "source": [
    "sim_res_w_fo['case'].unique()\n"
   ]
  },
  {
   "cell_type": "code",
   "execution_count": null,
   "id": "552b44a6-18ff-41e9-b5ae-6bdd2764bec4",
   "metadata": {},
   "outputs": [],
   "source": [
    "sim_res_w_fo.loc[sim_res_w_fo['case'].isna()]"
   ]
  },
  {
   "cell_type": "code",
   "execution_count": null,
   "id": "a7a9fc7c-b593-4d55-a1fb-128e555af478",
   "metadata": {},
   "outputs": [],
   "source": []
  },
  {
   "cell_type": "code",
   "execution_count": null,
   "id": "611315ad-c1fb-42bf-b317-c718a49f0123",
   "metadata": {},
   "outputs": [],
   "source": []
  },
  {
   "cell_type": "code",
   "execution_count": null,
   "id": "46cf6605-94a5-4194-8138-6e39a682e2c3",
   "metadata": {},
   "outputs": [],
   "source": []
  },
  {
   "cell_type": "markdown",
   "id": "e552ebc9-0504-4437-a237-13401f8a8817",
   "metadata": {},
   "source": [
    "---"
   ]
  }
 ],
 "metadata": {
  "kernelspec": {
   "display_name": "Python 3 (ipykernel)",
   "language": "python",
   "name": "python3"
  },
  "language_info": {
   "codemirror_mode": {
    "name": "ipython",
    "version": 3
   },
   "file_extension": ".py",
   "mimetype": "text/x-python",
   "name": "python",
   "nbconvert_exporter": "python",
   "pygments_lexer": "ipython3",
   "version": "3.8.1"
  }
 },
 "nbformat": 4,
 "nbformat_minor": 5
}
