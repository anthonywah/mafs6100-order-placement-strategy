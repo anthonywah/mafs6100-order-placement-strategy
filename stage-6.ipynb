{
 "cells": [
  {
   "cell_type": "markdown",
   "id": "44d6b685-c7bc-4023-8459-6cd831417898",
   "metadata": {},
   "source": [
    "# Sixth Stage"
   ]
  },
  {
   "cell_type": "markdown",
   "id": "82ad659e-7eab-4461-a9c0-66610ef60f83",
   "metadata": {},
   "source": [
    "### Investigate into the impact of flash orders on the simulation results"
   ]
  },
  {
   "cell_type": "code",
   "execution_count": 1,
   "id": "330cde71-00b2-4600-bdfb-4ab35bb98889",
   "metadata": {},
   "outputs": [],
   "source": [
    "from optimization import *\n",
    "from flash_order import *"
   ]
  },
  {
   "cell_type": "code",
   "execution_count": 7,
   "id": "fa08e08c-8075-4f08-a795-ba7fd2a6d35a",
   "metadata": {},
   "outputs": [],
   "source": [
    "target_stock_code = '0050'\n",
    "side = 'bid'\n",
    "ts = 20\n",
    "tm = 10\n",
    "max_dur = 200\n",
    "trick_thres = 100"
   ]
  },
  {
   "cell_type": "code",
   "execution_count": 8,
   "id": "9d44c726-bd02-417f-8494-c170984826db",
   "metadata": {},
   "outputs": [],
   "source": [
    "# First get simulation results\n",
    "sim_res = read_pkl_helper(os.path.join(PROJECT_DIR, f'optres/stock_code={target_stock_code}/side={side}/ts={ts}/tm={tm}', 'full_res.pkl'))"
   ]
  },
  {
   "cell_type": "code",
   "execution_count": 9,
   "id": "1cbedbb4-bca6-451c-b707-b3e697974012",
   "metadata": {},
   "outputs": [
    {
     "name": "stderr",
     "output_type": "stream",
     "text": [
      "2022-12-06 16:34:20.354 | INFO     | get_data.py         :   36 | Got cache at /Users/anthonywah/Projects/mafs6100-order-placement-strategy/cache/0050.pkl - 8.80s\n",
      "ClassifyingFlashOrder: 100%|██████████████████████████████████████████████████████████████████████████████████████████████████████████████████████████████████████████| 181/181 [00:12<00:00, 14.33it/s]\n"
     ]
    }
   ],
   "source": [
    "# Get flash orders\n",
    "foc = FlashOrderCalculator(target_stock_code)\n",
    "foc.classify(max_dur_ms=max_dur, trick_trade_thres_ms=trick_thres)"
   ]
  },
  {
   "cell_type": "code",
   "execution_count": 10,
   "id": "14111cd0-4ccc-403a-b0a4-0850534a5ef6",
   "metadata": {},
   "outputs": [
    {
     "name": "stderr",
     "output_type": "stream",
     "text": [
      "FindingFlashOrders: 100%|███████████████████████████████████████████████████████████████████████████████████████████████████████████████████████████████████████| 10434/10434 [00:07<00:00, 1382.55it/s]\n"
     ]
    }
   ],
   "source": [
    "# For each simulation round, check if there is a flash order during the order placement period\n",
    "\n",
    "for col in ['fo', 'fo_bid', 'fo_ask']:  # Record matched fo in index lists\n",
    "    if col in sim_res.columns:\n",
    "        sim_res = sim_res.drop(col, axis=1).reset_index(drop=True)\n",
    "    sim_res.loc[:, col] = [[] for i in range(len(sim_res))]\n",
    "\n",
    "one_fod = foc.fod[max_dur][trick_thres]\n",
    "for fo in tqdm.tqdm(one_fod, desc=\"FindingFlashOrders\", ncols=200, total=len(one_fod)):\n",
    "    matched = sim_res.loc[(sim_res['start_ts'] <= fo['start_ms']) & (sim_res['fill_ts'] >= fo['end_ms'])].index\n",
    "    if not len(matched):\n",
    "        continue\n",
    "    \n",
    "    # Store case indexes\n",
    "    for i in matched:\n",
    "        sim_res.at[i, 'fo'].append(fo['case_index'])\n",
    "    \n",
    "    # Side breakdown\n",
    "    if fo['side'] == 'bid':\n",
    "        sim_res.at[i, 'fo_bid'].append(fo['case_index'])\n",
    "    else: \n",
    "        sim_res.at[i, 'fo_ask'].append(fo['case_index'])"
   ]
  },
  {
   "cell_type": "code",
   "execution_count": 11,
   "id": "941c67bf-dc71-4e05-ba5e-2e60a7de8066",
   "metadata": {},
   "outputs": [],
   "source": [
    "# Get simulation rounds with flash orders\n",
    "sim_res_dict = {\n",
    "    'Normal'.ljust(15): sim_res.copy(), \n",
    "    'With FO'.ljust(15): sim_res.loc[sim_res['fo'].apply(len) > 0, :].reset_index(drop=True), \n",
    "    'No FO'.ljust(15): sim_res.loc[sim_res['fo'].apply(len) > 0, :].reset_index(drop=True), \n",
    "    'With bid FO'.ljust(15): sim_res.loc[sim_res['fo_bid'].apply(len) > 0, :].reset_index(drop=True), \n",
    "    'No bid FO'.ljust(15): sim_res.loc[sim_res['fo_bid'].apply(len) == 0, :].reset_index(drop=True), \n",
    "    'With ask FO'.ljust(15): sim_res.loc[sim_res['fo_ask'].apply(len) > 0, :].reset_index(drop=True), \n",
    "    'No ask FO'.ljust(15): sim_res.loc[sim_res['fo_ask'].apply(len) == 0, :].reset_index(drop=True), \n",
    "}"
   ]
  },
  {
   "cell_type": "code",
   "execution_count": 14,
   "id": "ca7b0e03-4672-4208-9bac-dc7c8b2b47a2",
   "metadata": {},
   "outputs": [
    {
     "name": "stderr",
     "output_type": "stream",
     "text": [
      "2022-12-06 16:35:34.914 | INFO     | 3074678047.py       :    2 | Cases breakdown: \n",
      "2022-12-06 16:35:34.925 | INFO     | 3074678047.py       :    9 | Normal         : Count =   49945 ; INIT =   5.75% ; EOQREP =   4.69% ; REP =  28.66% ; TAKE =  60.90% ; Avg PnL = -2.085 ; Stdev =  3.115\n",
      "2022-12-06 16:35:34.929 | INFO     | 3074678047.py       :    9 | With FO        : Count =    4321 ; INIT =   0.69% ; EOQREP =   0.42% ; REP =   2.96% ; TAKE =   4.59% ; Avg PnL = -2.456 ; Stdev =  4.471\n",
      "2022-12-06 16:35:34.932 | INFO     | 3074678047.py       :    9 | No FO          : Count =    4321 ; INIT =   0.69% ; EOQREP =   0.42% ; REP =   2.96% ; TAKE =   4.59% ; Avg PnL = -2.456 ; Stdev =  4.471\n",
      "2022-12-06 16:35:34.934 | INFO     | 3074678047.py       :    9 | With bid FO    : Count =    1450 ; INIT =   0.13% ; EOQREP =   0.15% ; REP =   0.59% ; TAKE =   2.04% ; Avg PnL = -4.666 ; Stdev =  5.257\n",
      "2022-12-06 16:35:34.946 | INFO     | 3074678047.py       :    9 | No bid FO      : Count =   48495 ; INIT =   5.63% ; EOQREP =   4.54% ; REP =  28.06% ; TAKE =  58.87% ; Avg PnL = -2.007 ; Stdev =  2.994\n",
      "2022-12-06 16:35:34.948 | INFO     | 3074678047.py       :    9 | With ask FO    : Count =    2894 ; INIT =   0.56% ; EOQREP =   0.29% ; REP =   2.36% ; TAKE =   2.58% ; Avg PnL = -1.361 ; Stdev =  3.543\n",
      "2022-12-06 16:35:34.958 | INFO     | 3074678047.py       :    9 | No ask FO      : Count =   47051 ; INIT =   5.19% ; EOQREP =   4.40% ; REP =  26.29% ; TAKE =  58.32% ; Avg PnL = -2.129 ; Stdev =  3.082\n"
     ]
    }
   ],
   "source": [
    "# Calculation % of different fill types\n",
    "log_info(f'Cases breakdown: ')\n",
    "for k, i_sim_res in sim_res_dict.items():\n",
    "    count_dict = i_sim_res.groupby('case')['date'].count().to_dict()\n",
    "    msg = f'{k}: Count = {len(i_sim_res):>7}'\n",
    "    for case in ['INIT', 'EOQREP', 'REP', 'TAKE']:\n",
    "        msg += f' ; {case} = {count_dict.get(case, 0.) * 100 / len(sim_res):>6.2f}%'\n",
    "    msg += f' ; Avg PnL = {i_sim_res[\"pnl\"].mean():>6.3f} ; Stdev = {i_sim_res[\"pnl\"].std():>6.3f}'\n",
    "    log_info(msg)"
   ]
  },
  {
   "cell_type": "code",
   "execution_count": 13,
   "id": "b0c6b6aa-05f4-4721-8d6c-81d19c184546",
   "metadata": {},
   "outputs": [
    {
     "data": {
      "text/plain": [
       "{'date': '2022-01-03',\n",
       " 'side': 'bid',\n",
       " 'start': Timestamp('2022-01-03 09:00:12.134000'),\n",
       " 'start_ms': 1641200412134.0,\n",
       " 'start_index': 35,\n",
       " 'end': Timestamp('2022-01-03 09:00:12.174000'),\n",
       " 'end_ms': 1641200412174.0,\n",
       " 'end_index': 40,\n",
       " 'duration': 40.0,\n",
       " 'orig_price': 14615.0,\n",
       " 'fo_price': 14620.0,\n",
       " 'fo_qty': 17,\n",
       " 'tricked_trade': False,\n",
       " 'tricked': nan,\n",
       " 'tricked_index': nan,\n",
       " 'tricked_ms': nan,\n",
       " 'tricked_price': nan,\n",
       " 'tricked_qty': nan,\n",
       " 'tricked_ms_taken': nan,\n",
       " 'opp_tricked_trade': False,\n",
       " 'opp_tricked': nan,\n",
       " 'opp_tricked_index': nan,\n",
       " 'opp_tricked_ms': nan,\n",
       " 'opp_tricked_price': nan,\n",
       " 'opp_tricked_qty': nan,\n",
       " 'opp_tricked_ms_taken': nan,\n",
       " 'case_index': 0}"
      ]
     },
     "execution_count": 13,
     "metadata": {},
     "output_type": "execute_result"
    }
   ],
   "source": [
    "one_fod[0]"
   ]
  },
  {
   "cell_type": "code",
   "execution_count": null,
   "id": "7bef823c-0229-44d9-95ce-1df2b24052e6",
   "metadata": {},
   "outputs": [],
   "source": []
  },
  {
   "cell_type": "code",
   "execution_count": null,
   "id": "46cf6605-94a5-4194-8138-6e39a682e2c3",
   "metadata": {},
   "outputs": [],
   "source": []
  },
  {
   "cell_type": "code",
   "execution_count": null,
   "id": "c4a879b7-8b77-4b14-82a2-d6797f9a613f",
   "metadata": {},
   "outputs": [],
   "source": []
  }
 ],
 "metadata": {
  "kernelspec": {
   "display_name": "Python 3 (ipykernel)",
   "language": "python",
   "name": "python3"
  },
  "language_info": {
   "codemirror_mode": {
    "name": "ipython",
    "version": 3
   },
   "file_extension": ".py",
   "mimetype": "text/x-python",
   "name": "python",
   "nbconvert_exporter": "python",
   "pygments_lexer": "ipython3",
   "version": "3.8.1"
  }
 },
 "nbformat": 4,
 "nbformat_minor": 5
}
