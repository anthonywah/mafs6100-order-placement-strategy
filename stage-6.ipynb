{
 "cells": [
  {
   "cell_type": "markdown",
   "id": "44d6b685-c7bc-4023-8459-6cd831417898",
   "metadata": {},
   "source": [
    "# Sixth Stage"
   ]
  },
  {
   "cell_type": "markdown",
   "id": "82ad659e-7eab-4461-a9c0-66610ef60f83",
   "metadata": {},
   "source": [
    "### Investigate into the impact of flash orders on the simulation results"
   ]
  },
  {
   "cell_type": "code",
   "execution_count": 1,
   "id": "330cde71-00b2-4600-bdfb-4ab35bb98889",
   "metadata": {},
   "outputs": [],
   "source": [
    "from optimization import *\n",
    "from flash_order import *"
   ]
  },
  {
   "cell_type": "code",
   "execution_count": 12,
   "id": "fa08e08c-8075-4f08-a795-ba7fd2a6d35a",
   "metadata": {},
   "outputs": [],
   "source": [
    "target_stock_code = '2330'\n",
    "side = 'bid'\n",
    "ts = 20\n",
    "tm = 10\n",
    "max_dur = 200\n",
    "trick_thres = 100"
   ]
  },
  {
   "cell_type": "code",
   "execution_count": 13,
   "id": "9d44c726-bd02-417f-8494-c170984826db",
   "metadata": {},
   "outputs": [],
   "source": [
    "# First get simulation results\n",
    "sim_res = read_pkl_helper(os.path.join(PROJECT_DIR, f'optres/stock_code={target_stock_code}/side={side}/ts={ts}/tm={tm}', 'full_res.pkl'))"
   ]
  },
  {
   "cell_type": "code",
   "execution_count": 14,
   "id": "1cbedbb4-bca6-451c-b707-b3e697974012",
   "metadata": {},
   "outputs": [
    {
     "name": "stderr",
     "output_type": "stream",
     "text": [
      "2022-12-06 21:51:31.430 | INFO     | get_data.py         :   36 | Got cache at /Users/anthonywah/Projects/mafs6100-order-placement-strategy/cache/2330.pkl - 12.53s\n",
      "ClassifyingFlashOrder: 100%|██████████████████████████████████████████████████████████████████████████████████████████████████████████████████████████████████████████| 181/181 [00:05<00:00, 31.49it/s]\n"
     ]
    }
   ],
   "source": [
    "# Get flash orders\n",
    "foc = FlashOrderCalculator(target_stock_code)\n",
    "foc.classify(max_dur_ms=max_dur, trick_trade_thres_ms=trick_thres)"
   ]
  },
  {
   "cell_type": "code",
   "execution_count": 15,
   "id": "ca89758a-5c0c-41dc-84f9-625d32e0613b",
   "metadata": {},
   "outputs": [
    {
     "data": {
      "text/plain": [
       "6878"
      ]
     },
     "execution_count": 15,
     "metadata": {},
     "output_type": "execute_result"
    }
   ],
   "source": [
    "len(sim_res)"
   ]
  },
  {
   "cell_type": "code",
   "execution_count": 16,
   "id": "14111cd0-4ccc-403a-b0a4-0850534a5ef6",
   "metadata": {},
   "outputs": [
    {
     "name": "stderr",
     "output_type": "stream",
     "text": [
      "FindingFlashOrders: 100%|█████████████████████████████████████████████████████████████████████████████████████████████████████████████████████████████████████████| 2356/2356 [00:01<00:00, 1467.87it/s]\n"
     ]
    }
   ],
   "source": [
    "# For each simulation round, check if there is a flash order during the order placement period\n",
    "\n",
    "for col in ['fo', 'fo_bid', 'fo_ask']:  # Record matched fo in index lists\n",
    "    if col in sim_res.columns:\n",
    "        sim_res = sim_res.drop(col, axis=1).reset_index(drop=True)\n",
    "    sim_res.loc[:, col] = [[] for i in range(len(sim_res))]\n",
    "\n",
    "one_fod = foc.fod[max_dur][trick_thres]\n",
    "for fo in tqdm.tqdm(one_fod, desc=\"FindingFlashOrders\", ncols=200, total=len(one_fod)):\n",
    "    matched = sim_res.loc[(sim_res['start_ts'] <= fo['start_ms']) & (sim_res['fill_ts'] >= fo['end_ms'])].index\n",
    "    if not len(matched):\n",
    "        continue\n",
    "    \n",
    "    # Store case indexes\n",
    "    for i in matched:\n",
    "        sim_res.at[i, 'fo'].append(fo['case_index'])\n",
    "    \n",
    "    # Side breakdown\n",
    "    if fo['side'] == 'bid':\n",
    "        sim_res.at[i, 'fo_bid'].append(fo['case_index'])\n",
    "    else: \n",
    "        sim_res.at[i, 'fo_ask'].append(fo['case_index'])"
   ]
  },
  {
   "cell_type": "code",
   "execution_count": 17,
   "id": "941c67bf-dc71-4e05-ba5e-2e60a7de8066",
   "metadata": {},
   "outputs": [],
   "source": [
    "# Get simulation rounds with flash orders\n",
    "sim_res_dict = {\n",
    "    'Normal'.ljust(15): sim_res.copy(), \n",
    "    'With FO'.ljust(15): sim_res.loc[sim_res['fo'].apply(len) > 0, :].reset_index(drop=True), \n",
    "    'No FO'.ljust(15): sim_res.loc[sim_res['fo'].apply(len) == 0, :].reset_index(drop=True), \n",
    "    'With bid FO'.ljust(15): sim_res.loc[sim_res['fo_bid'].apply(len) > 0, :].reset_index(drop=True), \n",
    "    'No bid FO'.ljust(15): sim_res.loc[sim_res['fo_bid'].apply(len) == 0, :].reset_index(drop=True), \n",
    "    'With ask FO'.ljust(15): sim_res.loc[sim_res['fo_ask'].apply(len) > 0, :].reset_index(drop=True), \n",
    "    'No ask FO'.ljust(15): sim_res.loc[sim_res['fo_ask'].apply(len) == 0, :].reset_index(drop=True), \n",
    "}"
   ]
  },
  {
   "cell_type": "code",
   "execution_count": 18,
   "id": "ca7b0e03-4672-4208-9bac-dc7c8b2b47a2",
   "metadata": {},
   "outputs": [
    {
     "name": "stderr",
     "output_type": "stream",
     "text": [
      "2022-12-06 21:51:39.764 | INFO     | 652576031.py        :    2 | Cases breakdown: \n",
      "2022-12-06 21:51:39.774 | INFO     | 652576031.py        :    9 | Normal         : Count =    6878 ; INIT =   2.14% ; EOQREP =   6.67% ; REP =  15.05% ; TAKE =  76.14% ; Avg PnL = -5.888 ; Stdev =  8.557\n",
      "2022-12-06 21:51:39.777 | INFO     | 652576031.py        :    9 | With FO        : Count =     730 ; INIT =   2.33% ; EOQREP =   9.59% ; REP =  18.49% ; TAKE =  69.59% ; Avg PnL = -5.507 ; Stdev =  8.792\n",
      "2022-12-06 21:51:39.781 | INFO     | 652576031.py        :    9 | No FO          : Count =    6148 ; INIT =   2.11% ; EOQREP =   6.33% ; REP =  14.64% ; TAKE =  76.92% ; Avg PnL = -5.933 ; Stdev =  8.528\n",
      "2022-12-06 21:51:39.783 | INFO     | 652576031.py        :    9 | With bid FO    : Count =     321 ; INIT =   1.87% ; EOQREP =  10.59% ; REP =  16.20% ; TAKE =  71.34% ; Avg PnL = -6.550 ; Stdev =  9.072\n",
      "2022-12-06 21:51:39.787 | INFO     | 652576031.py        :    9 | No bid FO      : Count =    6557 ; INIT =   2.15% ; EOQREP =   6.48% ; REP =  14.99% ; TAKE =  76.38% ; Avg PnL = -5.855 ; Stdev =  8.530\n",
      "2022-12-06 21:51:39.789 | INFO     | 652576031.py        :    9 | With ask FO    : Count =     434 ; INIT =   2.53% ; EOQREP =   9.45% ; REP =  19.82% ; TAKE =  68.20% ; Avg PnL = -4.923 ; Stdev =  8.755\n",
      "2022-12-06 21:51:39.794 | INFO     | 652576031.py        :    9 | No ask FO      : Count =    6444 ; INIT =   2.11% ; EOQREP =   6.49% ; REP =  14.73% ; TAKE =  76.68% ; Avg PnL = -5.953 ; Stdev =  8.540\n"
     ]
    }
   ],
   "source": [
    "# Calculation % of different fill types\n",
    "log_info(f'Cases breakdown: ')\n",
    "for k, i_sim_res in sim_res_dict.items():\n",
    "    count_dict = i_sim_res.groupby('case')['date'].count().to_dict()\n",
    "    msg = f'{k}: Count = {len(i_sim_res):>7}'\n",
    "    for case in ['INIT', 'EOQREP', 'REP', 'TAKE']:\n",
    "        msg += f' ; {case} = {count_dict.get(case, 0.) * 100 / len(i_sim_res):>6.2f}%'\n",
    "    msg += f' ; Avg PnL = {i_sim_res[\"pnl\"].mean():>6.3f} ; Stdev = {i_sim_res[\"pnl\"].std():>6.3f}'\n",
    "    log_info(msg)"
   ]
  },
  {
   "cell_type": "code",
   "execution_count": null,
   "id": "46cf6605-94a5-4194-8138-6e39a682e2c3",
   "metadata": {},
   "outputs": [],
   "source": []
  },
  {
   "cell_type": "markdown",
   "id": "e552ebc9-0504-4437-a237-13401f8a8817",
   "metadata": {},
   "source": [
    "---"
   ]
  }
 ],
 "metadata": {
  "kernelspec": {
   "display_name": "Python 3 (ipykernel)",
   "language": "python",
   "name": "python3"
  },
  "language_info": {
   "codemirror_mode": {
    "name": "ipython",
    "version": 3
   },
   "file_extension": ".py",
   "mimetype": "text/x-python",
   "name": "python",
   "nbconvert_exporter": "python",
   "pygments_lexer": "ipython3",
   "version": "3.8.1"
  }
 },
 "nbformat": 4,
 "nbformat_minor": 5
}
