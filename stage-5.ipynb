{
 "cells": [
  {
   "cell_type": "code",
   "execution_count": null,
   "id": "6772eb1d-7da3-44c0-8f76-b73b55aa7bed",
   "metadata": {},
   "outputs": [],
   "source": [
    "from flash_order import *\n",
    "from matplotlib.ticker import MaxNLocator"
   ]
  },
  {
   "cell_type": "code",
   "execution_count": null,
   "id": "1bea4e03-4235-481c-b47e-f2d2cc71a9c8",
   "metadata": {},
   "outputs": [],
   "source": [
    "foc_0050 = FlashOrderCalculator('0050')"
   ]
  },
  {
   "cell_type": "code",
   "execution_count": null,
   "id": "8ae93439-0c18-4482-a8c0-2bd6803f4401",
   "metadata": {},
   "outputs": [],
   "source": [
    "foc_0050.classify(max_dur_ms=100)"
   ]
  },
  {
   "cell_type": "code",
   "execution_count": null,
   "id": "3f491c87-39d9-43c3-a055-7bb48bdbf589",
   "metadata": {},
   "outputs": [],
   "source": [
    "len(foc_0050.fod[100])"
   ]
  },
  {
   "cell_type": "code",
   "execution_count": null,
   "id": "9e20b6c9-6387-45c9-b33a-760cce579a89",
   "metadata": {},
   "outputs": [],
   "source": [
    "fig,ax = plt.subplots(figsize=(16,8))\n",
    "ax.hist([i['duration'] for i in foc_0050.fod[100]], bins=200, label='duration')\n",
    "ax.legend(loc = 'upper right')\n",
    "ax.set_title('distribution of flickering duration')"
   ]
  },
  {
   "cell_type": "code",
   "execution_count": null,
   "id": "faac0c17-541e-43ef-b6de-5d646c259ac1",
   "metadata": {},
   "outputs": [],
   "source": [
    "fig,ax = plt.subplots(figsize=(16,8))\n",
    "ax.hist([i['fo_qty'] for i in foc_0050.fod[100]], bins=200, label='duration')\n",
    "ax.legend(loc = 'upper right')\n",
    "ax.set_title('distribution of flickering duration')"
   ]
  },
  {
   "cell_type": "code",
   "execution_count": null,
   "id": "eec49359-baaf-458f-a6c8-dd9809c6dc1b",
   "metadata": {},
   "outputs": [],
   "source": [
    "fig,ax = plt.subplots(figsize=(16,8))\n",
    "ax.hist([i['fo_qty'] * i['fo_price']/100 for i in foc_0050.fod[100]], bins=200, label='duration')\n",
    "ax.legend(loc = 'upper right')\n",
    "ax.set_title('distribution of flickering duration')"
   ]
  },
  {
   "cell_type": "code",
   "execution_count": null,
   "id": "d0615c18-a135-47d3-90a8-bd99f303f6c2",
   "metadata": {},
   "outputs": [],
   "source": [
    "data_gb_cp = {k: v.assign(IS_FO=0) for k, v in foc_0050.data_gb.items()}\n",
    "\n",
    "for case in tqdm.tqdm(foc_0050.fod[100], ncols=200, desc='MatchingFlashOrderIndex', total=len(foc_0050.fod[100])):\n",
    "    data_gb_cp[case['date']].at[case['start_index'], 'IS_FO'] = 1\n",
    "\n",
    "all_df = pd.concat(list(data_gb_cp.values())).reset_index(drop=True)\n",
    "all_df.loc[:, '5m_bin'] = all_df['dt'].dt.floor(freq='5min').dt.time.astype(str)\n",
    "df_bin = all_df.groupby('5m_bin')[['IS_FO']].sum().reset_index()\n",
    "\n",
    "# Start plotting\n",
    "fig, ax = plt.subplots(figsize=(16, 6))\n",
    "ax.set_title('Flash Order 5 Minute Rolling Average')\n",
    "ax.plot(df_bin['5m_bin'], df_bin['IS_FO'] / len(data_gb_cp), label='5-minute fo average')\n",
    "locator = MaxNLocator(prune='both', nbins=8)\n",
    "ax.xaxis.set_major_locator(locator)\n",
    "ax.grid(True)\n",
    "ax.legend()\n",
    "plt.show()"
   ]
  },
  {
   "cell_type": "code",
   "execution_count": null,
   "id": "e4189ea0-fece-4f13-a69a-a464543d3f98",
   "metadata": {},
   "outputs": [],
   "source": [
    "data_gb_cp = {k: v.assign(IS_FO=0) for k, v in foc_0050.data_gb.items()}\n",
    "\n",
    "for case in tqdm.tqdm(foc_0050.fod[100], ncols=200, desc='MatchingFlashOrderIndex', total=len(foc_0050.fod[100])):\n",
    "    data_gb_cp[case['date']].at[case['start_index'], 'IS_FO'] = 1\n",
    "\n",
    "all_df = pd.concat(list(data_gb_cp.values())).reset_index(drop=True)\n",
    "all_df.loc[:, '1m_bin'] = all_df['dt'].dt.floor(freq='1min').dt.time.astype(str)\n",
    "df_bin = all_df.groupby('1m_bin')[['IS_FO']].sum().reset_index()\n",
    "\n",
    "# Start plotting\n",
    "fig, ax = plt.subplots(figsize=(16, 6))\n",
    "ax.set_title('Flash Order 1 Minute Rolling Average')\n",
    "ax.plot(df_bin['1m_bin'], df_bin['IS_FO'] / len(data_gb_cp), label='1-minute fo average')\n",
    "locator = MaxNLocator(prune='both', nbins=8)\n",
    "ax.xaxis.set_major_locator(locator)\n",
    "ax.grid(True)\n",
    "ax.legend()\n",
    "plt.show()"
   ]
  },
  {
   "cell_type": "markdown",
   "id": "59182459-7a1a-4a17-b24c-b4296c6e5be6",
   "metadata": {},
   "source": [
    "### 0050 Tricked trades"
   ]
  },
  {
   "cell_type": "code",
   "execution_count": null,
   "id": "d57b3deb-ea7a-46f4-b4e8-e336b272711b",
   "metadata": {},
   "outputs": [],
   "source": [
    "foc_0050.plot(100, 17)"
   ]
  },
  {
   "cell_type": "code",
   "execution_count": null,
   "id": "6199e240-e9e6-4720-b0e1-1f2d9ec91f44",
   "metadata": {},
   "outputs": [],
   "source": [
    "foc_0050.plot(100, 162)"
   ]
  },
  {
   "cell_type": "code",
   "execution_count": null,
   "id": "26cec19b-cd5a-4edd-81f9-a4118033c7b2",
   "metadata": {},
   "outputs": [],
   "source": [
    "foc_0050.plot(100, 430)"
   ]
  },
  {
   "cell_type": "code",
   "execution_count": null,
   "id": "1c4ba8a5-8934-44f5-984f-256b03366234",
   "metadata": {},
   "outputs": [],
   "source": [
    "foc_0050.plot(100, 445)"
   ]
  },
  {
   "cell_type": "code",
   "execution_count": null,
   "id": "4c6a4c11-dc19-4afd-b1ae-1672b58e6ea8",
   "metadata": {},
   "outputs": [],
   "source": []
  },
  {
   "cell_type": "code",
   "execution_count": null,
   "id": "1b683a7e-fe1e-447d-ba33-99b5df245956",
   "metadata": {},
   "outputs": [],
   "source": []
  },
  {
   "cell_type": "code",
   "execution_count": null,
   "id": "89ebf3a0-d101-4a62-9d05-53c43dfa748a",
   "metadata": {},
   "outputs": [],
   "source": []
  },
  {
   "cell_type": "code",
   "execution_count": null,
   "id": "8826ed34-a2ec-40fd-9ef8-e48f1ecf2048",
   "metadata": {},
   "outputs": [],
   "source": []
  },
  {
   "cell_type": "code",
   "execution_count": null,
   "id": "7d8bece9-cedd-4ffe-9d1a-b0198be71900",
   "metadata": {},
   "outputs": [],
   "source": []
  },
  {
   "cell_type": "code",
   "execution_count": null,
   "id": "e778042a-1ab2-42c4-aff8-4760d8ce7cb5",
   "metadata": {},
   "outputs": [],
   "source": []
  },
  {
   "cell_type": "code",
   "execution_count": null,
   "id": "44b99a62-1da8-46e7-9966-d2fa01c9e15a",
   "metadata": {},
   "outputs": [],
   "source": []
  },
  {
   "cell_type": "code",
   "execution_count": null,
   "id": "a3a9cdfe-f8ca-44a3-accd-8592c5b04fc3",
   "metadata": {},
   "outputs": [],
   "source": []
  },
  {
   "cell_type": "code",
   "execution_count": null,
   "id": "f9aab4de-3a9e-45d5-9dba-441f24230533",
   "metadata": {},
   "outputs": [],
   "source": []
  },
  {
   "cell_type": "code",
   "execution_count": null,
   "id": "92eb5385-3dfc-4200-8a97-9a47275e1671",
   "metadata": {},
   "outputs": [],
   "source": []
  },
  {
   "cell_type": "code",
   "execution_count": null,
   "id": "16a9ffe9-a961-4668-80fc-620b44b03a26",
   "metadata": {},
   "outputs": [],
   "source": []
  },
  {
   "cell_type": "code",
   "execution_count": null,
   "id": "523e6555-8dbe-4701-ba1e-14344b10f7b1",
   "metadata": {},
   "outputs": [],
   "source": []
  },
  {
   "cell_type": "code",
   "execution_count": null,
   "id": "ba62a7cd-9bb2-4404-ad13-eb2477b86d42",
   "metadata": {},
   "outputs": [],
   "source": []
  },
  {
   "cell_type": "code",
   "execution_count": null,
   "id": "9f565f1b-77f0-4cd1-825a-95aad605719f",
   "metadata": {},
   "outputs": [],
   "source": []
  },
  {
   "cell_type": "code",
   "execution_count": null,
   "id": "06d33007-e9d5-4092-9830-aa6b41555ebd",
   "metadata": {},
   "outputs": [],
   "source": [
    "foc_2330 = FlashOrderCalculator('2330')"
   ]
  },
  {
   "cell_type": "code",
   "execution_count": null,
   "id": "274e68f4-4734-4909-a2b8-29ad2d61c328",
   "metadata": {},
   "outputs": [],
   "source": [
    "foc_2330.classify(max_dur_ms=100)"
   ]
  },
  {
   "cell_type": "code",
   "execution_count": null,
   "id": "e8a13745-c4c8-4de5-a20e-2645679d7324",
   "metadata": {},
   "outputs": [],
   "source": [
    "len(foc_2330.fod[100])"
   ]
  },
  {
   "cell_type": "code",
   "execution_count": null,
   "id": "55a26c14-7e19-4cff-8433-8c8bcc360e2f",
   "metadata": {},
   "outputs": [],
   "source": [
    "fig,ax = plt.subplots(figsize=(16,8))\n",
    "ax.hist([i['duration'] for i in foc_2330.fod[100]], bins=200, label='duration')\n",
    "ax.legend(loc = 'upper right')\n",
    "ax.set_title('distribution of flickering duration')"
   ]
  },
  {
   "cell_type": "code",
   "execution_count": null,
   "id": "d5399d01-00e2-4402-bf5c-c9fbdd544050",
   "metadata": {},
   "outputs": [],
   "source": [
    "fig,ax = plt.subplots(figsize=(16,8))\n",
    "ax.hist([i['fo_qty'] for i in foc_2330.fod[100]], bins=200, label='duration')\n",
    "ax.legend(loc = 'upper right')\n",
    "ax.set_title('distribution of flickering duration')"
   ]
  },
  {
   "cell_type": "code",
   "execution_count": null,
   "id": "5a7008e9-742d-485a-8cbe-8b278c7e4a22",
   "metadata": {},
   "outputs": [],
   "source": [
    "fig,ax = plt.subplots(figsize=(16,8))\n",
    "ax.hist([i['fo_qty'] * i['fo_price'] / 100 for i in foc_2330.fod[100]], bins=200, label='duration')\n",
    "ax.legend(loc = 'upper right')\n",
    "ax.set_title('distribution of flickering duration')"
   ]
  },
  {
   "cell_type": "code",
   "execution_count": null,
   "id": "93aa4518-ede4-4706-aa4d-e563a27704db",
   "metadata": {},
   "outputs": [],
   "source": [
    "foc_2330.fod[100][2]"
   ]
  },
  {
   "cell_type": "code",
   "execution_count": null,
   "id": "a6f6de50-9aaf-481c-ad82-fcfde201f527",
   "metadata": {},
   "outputs": [],
   "source": [
    "data_gb_cp = {k: v.assign(IS_FO=0) for k, v in foc_2330.data_gb.items()}\n",
    "\n",
    "for case in tqdm.tqdm(foc_2330.fod[100], ncols=200, desc='MatchingFlashOrderIndex', total=len(foc_2330.fod[100])):\n",
    "    data_gb_cp[case['date']].at[case['start_index'], 'IS_FO'] = 1\n",
    "\n",
    "all_df = pd.concat(list(data_gb_cp.values())).reset_index(drop=True)\n",
    "all_df.loc[:, '5m_bin'] = all_df['dt'].dt.floor(freq='5min').dt.time.astype(str)\n",
    "df_bin = all_df.groupby('5m_bin')[['IS_FO']].sum().reset_index()\n",
    "\n",
    "# Start plotting\n",
    "fig, ax = plt.subplots(figsize=(16, 6))\n",
    "ax.set_title('Flash Order 5 Minute Rolling Average')\n",
    "ax.plot(df_bin['5m_bin'], df_bin['IS_FO'] / len(data_gb_cp), label='5-minute fo average')\n",
    "locator = MaxNLocator(prune='both', nbins=8)\n",
    "ax.xaxis.set_major_locator(locator)\n",
    "ax.grid(True)\n",
    "ax.legend()\n",
    "plt.show()"
   ]
  },
  {
   "cell_type": "code",
   "execution_count": null,
   "id": "c1f9f190-9fd3-4887-bcf6-05cc5fb193f1",
   "metadata": {},
   "outputs": [],
   "source": [
    "one_all_df = all_df.loc[all_df['5m_bin'] == '11:15:00'].sort_values('date')\n",
    "gb_df = one_all_df.groupby('date')['IS_FO'].sum().reset_index()\n",
    "\n",
    "fig, ax = plt.subplots(figsize=(16, 6))\n",
    "ax.plot(gb_df['date'], gb_df['IS_FO'], label='5-minute fo average')\n",
    "locator = MaxNLocator(prune='both', nbins=8)\n",
    "ax.xaxis.set_major_locator(locator)\n",
    "ax.grid(True)\n",
    "ax.legend()\n",
    "plt.show()"
   ]
  },
  {
   "cell_type": "code",
   "execution_count": null,
   "id": "9946dec8-82c4-4714-a316-3fc1ff561ab7",
   "metadata": {},
   "outputs": [],
   "source": []
  },
  {
   "cell_type": "code",
   "execution_count": null,
   "id": "dcb34df7-79cd-4da8-9687-2f58988b208e",
   "metadata": {},
   "outputs": [],
   "source": []
  },
  {
   "cell_type": "code",
   "execution_count": null,
   "id": "6a41451a-54b8-4595-9ab4-9c0ca4b6679b",
   "metadata": {},
   "outputs": [],
   "source": [
    "gb_df['IS_FO'].idxmax()"
   ]
  },
  {
   "cell_type": "code",
   "execution_count": null,
   "id": "0e81a2fb-a6c3-4a61-9a29-88cb96e20d86",
   "metadata": {},
   "outputs": [],
   "source": [
    "gb_df.loc[121]"
   ]
  },
  {
   "cell_type": "code",
   "execution_count": null,
   "id": "7f3890a8-4a2d-4bdf-aae7-b97d2e4713a1",
   "metadata": {},
   "outputs": [],
   "source": [
    "cases = [i for i in range(len(foc_2330.fod[100])) if foc_2330.fod[100][i]['date'] == '2022-07-07']"
   ]
  },
  {
   "cell_type": "code",
   "execution_count": null,
   "id": "09be91bc-890a-4a88-93bc-d9a7949c8a48",
   "metadata": {},
   "outputs": [],
   "source": [
    "len(cases)"
   ]
  },
  {
   "cell_type": "code",
   "execution_count": null,
   "id": "048d0de5-31fb-4dcf-b320-bae3b7b853cc",
   "metadata": {},
   "outputs": [],
   "source": [
    "data_gb_cp = {k: v.assign(IS_FO=0) for k, v in foc_2330.data_gb.items()}\n",
    "\n",
    "for case in tqdm.tqdm(foc_2330.fod[100], ncols=200, desc='MatchingFlashOrderIndex', total=len(foc_2330.fod[100])):\n",
    "    data_gb_cp[case['date']].at[case['start_index'], 'IS_FO'] = 1\n",
    "\n",
    "all_df = pd.concat(list(data_gb_cp.values())).reset_index(drop=True)\n",
    "all_df.loc[:, '1m_bin'] = all_df['dt'].dt.floor(freq='1min').dt.time.astype(str)\n",
    "df_bin = all_df.groupby('1m_bin')[['IS_FO']].sum().reset_index()\n",
    "\n",
    "# Start plotting\n",
    "fig, ax = plt.subplots(figsize=(16, 6))\n",
    "ax.set_title('Flash Order 1 Minute Rolling Average')\n",
    "ax.plot(df_bin['1m_bin'], df_bin['IS_FO'] / len(data_gb_cp), label='1-minute fo average')\n",
    "locator = MaxNLocator(prune='both', nbins=8)\n",
    "ax.xaxis.set_major_locator(locator)\n",
    "ax.grid(True)\n",
    "ax.legend()\n",
    "plt.show()"
   ]
  },
  {
   "cell_type": "code",
   "execution_count": null,
   "id": "139dc33d-db19-4e74-bdee-71031c855c1d",
   "metadata": {},
   "outputs": [],
   "source": []
  },
  {
   "cell_type": "code",
   "execution_count": null,
   "id": "f4b07032-9573-46e4-b972-91a8be45d4c6",
   "metadata": {},
   "outputs": [],
   "source": []
  },
  {
   "cell_type": "code",
   "execution_count": null,
   "id": "b03d1ccf-7223-46dd-b0bf-054fdfc02036",
   "metadata": {},
   "outputs": [],
   "source": []
  },
  {
   "cell_type": "code",
   "execution_count": null,
   "id": "dba098d3-5458-44d2-ae14-b75864ab467e",
   "metadata": {},
   "outputs": [],
   "source": []
  },
  {
   "cell_type": "code",
   "execution_count": null,
   "id": "47f0192a-a854-4a6b-a445-6073c361a28f",
   "metadata": {},
   "outputs": [],
   "source": []
  },
  {
   "cell_type": "code",
   "execution_count": null,
   "id": "725b51e2-c920-4c21-9e9d-c3ca9464aba5",
   "metadata": {},
   "outputs": [],
   "source": []
  }
 ],
 "metadata": {
  "kernelspec": {
   "display_name": "Python 3 (ipykernel)",
   "language": "python",
   "name": "python3"
  },
  "language_info": {
   "codemirror_mode": {
    "name": "ipython",
    "version": 3
   },
   "file_extension": ".py",
   "mimetype": "text/x-python",
   "name": "python",
   "nbconvert_exporter": "python",
   "pygments_lexer": "ipython3",
   "version": "3.8.1"
  }
 },
 "nbformat": 4,
 "nbformat_minor": 5
}
