{
 "cells": [
  {
   "cell_type": "code",
   "execution_count": null,
   "id": "de1b77c6-2612-47c4-ba52-c3929aa57191",
   "metadata": {},
   "outputs": [],
   "source": [
    "from get_data import *\n",
    "from simulation import *\n",
    "from optimization import *\n",
    "import matplotlib.pyplot as plt\n",
    "from matplotlib.ticker import MaxNLocator\n",
    "import tqdm\n",
    "import seaborn as sns\n",
    "import os\n",
    "import glob\n",
    "import warnings\n",
    "warnings.filterwarnings('ignore')"
   ]
  },
  {
   "cell_type": "markdown",
   "id": "c92d178f-2e7b-46e4-85c7-e07e1f3bfdfb",
   "metadata": {},
   "source": [
    "# All Optimization Results"
   ]
  },
  {
   "cell_type": "code",
   "execution_count": null,
   "id": "7c3ae470-d200-42c2-a72c-9af30b5a3663",
   "metadata": {},
   "outputs": [],
   "source": [
    "res_dict = {}  # Target dictionary to store results, don't update this dictionary for testing different objective function params\n",
    "files_df = get_path_df()\n",
    "gb = files_df.groupby(['stock_code', 'side', 'ts', 'tm'])\n",
    "for k, df in tqdm.tqdm(gb, desc='GettingSimData', ncols=200, total=len(gb.groups)):\n",
    "    \n",
    "    # Get data \n",
    "    if k not in res_dict.keys():\n",
    "        res_dict[k] = get_sim_res(path_ls=df['path'].unique().tolist())\n",
    "    \n",
    "    # Calculate score\n",
    "    res_score = obj(res_dict[k]['pnl'], res_dict[k]['duration'], **{'lmda': 1, 't_func': lambda x: np.sqrt(x / 1000.)})\n",
    "    res_score = res_score[np.logical_and(~np.isnan(res_score), ~np.isinf(res_score))]\n",
    "    res_dict[k].update({\n",
    "        'scores': res_score, \n",
    "        'count_k': len(res_score) / 1000, \n",
    "        'score_mean': np.nanmean(res_score), \n",
    "        'score_std': np.nanstd(res_score)\n",
    "    })"
   ]
  },
  {
   "cell_type": "code",
   "execution_count": null,
   "id": "cc3f2fba-7819-4bac-a88c-59a9302d0665",
   "metadata": {},
   "outputs": [],
   "source": [
    "plot_heatmap(stock_code_ls=['0050', '2330'], side_ls=['bid', 'ask'], plot_attri_ls=['score_mean', 'score_std', 'count_k'], res_dict=res_dict)"
   ]
  },
  {
   "cell_type": "code",
   "execution_count": null,
   "id": "713745cc-0aac-4dc4-b50d-52b8eac8c2f1",
   "metadata": {},
   "outputs": [],
   "source": []
  },
  {
   "cell_type": "code",
   "execution_count": null,
   "id": "77350fd0-c968-4066-9034-55c74164e9f8",
   "metadata": {},
   "outputs": [],
   "source": []
  },
  {
   "cell_type": "code",
   "execution_count": null,
   "id": "91015fcb-b04c-4f4d-9d6c-e94266ffc9d1",
   "metadata": {},
   "outputs": [],
   "source": []
  },
  {
   "cell_type": "code",
   "execution_count": null,
   "id": "d53a71a8-5a1f-4d33-93ba-88eee51254cf",
   "metadata": {},
   "outputs": [],
   "source": []
  }
 ],
 "metadata": {
  "kernelspec": {
   "display_name": "Python 3 (ipykernel)",
   "language": "python",
   "name": "python3"
  },
  "language_info": {
   "codemirror_mode": {
    "name": "ipython",
    "version": 3
   },
   "file_extension": ".py",
   "mimetype": "text/x-python",
   "name": "python",
   "nbconvert_exporter": "python",
   "pygments_lexer": "ipython3",
   "version": "3.8.1"
  }
 },
 "nbformat": 4,
 "nbformat_minor": 5
}
