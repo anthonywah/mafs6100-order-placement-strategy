{
 "cells": [
  {
   "cell_type": "markdown",
   "id": "8a732aab-dfbe-4c2e-875d-20ca359634e1",
   "metadata": {},
   "source": [
    "# Second Stage"
   ]
  },
  {
   "cell_type": "code",
   "execution_count": null,
   "id": "fddad67a-d235-47d9-b50e-b53021fcc020",
   "metadata": {},
   "outputs": [],
   "source": [
    "from get_data import *\n",
    "from simulation import *\n",
    "import matplotlib.pyplot as plt\n",
    "from matplotlib.ticker import MaxNLocator\n",
    "import tqdm"
   ]
  },
  {
   "cell_type": "code",
   "execution_count": null,
   "id": "a17908c8-ee73-46df-bf5e-3477f8c7e2f6",
   "metadata": {},
   "outputs": [],
   "source": [
    "target_code = '0050'\n",
    "all_df = get_one_file(stock_code=target_code, year_month='202201')\n",
    "df_dict = {k: v.reset_index(drop=True) for k, v in all_df.groupby('date')}"
   ]
  },
  {
   "cell_type": "markdown",
   "id": "b66969ba-396f-4687-85b4-b4ba89e45fea",
   "metadata": {},
   "source": [
    "---"
   ]
  },
  {
   "cell_type": "markdown",
   "id": "5297bf34-1d6b-4e20-91c0-25c68e7bdac9",
   "metadata": {},
   "source": [
    "### 1. Count cases of spread in specific (2) ticks"
   ]
  },
  {
   "cell_type": "code",
   "execution_count": null,
   "id": "ffccea06-7405-4a15-b598-1abe081a2fff",
   "metadata": {},
   "outputs": [],
   "source": [
    "t2_all_df = all_df.loc[all_df['spread_in_tick'] == 2, :].reset_index(drop=True)\n",
    "log_info(f'{len(t2_all_df)}/{len(all_df)} experiments to be considered')"
   ]
  },
  {
   "cell_type": "markdown",
   "id": "e4542096-1f5b-4016-a13e-685f5225be8b",
   "metadata": {},
   "source": [
    "Actual number of experiments may not be equal to this number since some of the quotes are consecutive (happens one after another). We only consider cases where tick changes to 2 and stays til either:\n",
    "\n",
    "    - Order got filled at at b_1 before t_m\n",
    "    - Replaced order at b_1 with b_star at t_m, and got filled at b_star at t_m < t < t_start\n",
    "    - Replace order at b_1 with b_star at t_m, and waited til t_star, and then cross the spread, fill at a_1"
   ]
  },
  {
   "cell_type": "markdown",
   "id": "c20b2bc1-3670-431d-8c3a-9b4d8994d658",
   "metadata": {},
   "source": [
    "---"
   ]
  },
  {
   "cell_type": "markdown",
   "id": "6af724c1-fe56-4353-8427-156831f2c4fc",
   "metadata": {},
   "source": [
    "### 2. Simulation"
   ]
  },
  {
   "cell_type": "code",
   "execution_count": null,
   "id": "697efc97-5f45-46da-9f0f-e12b22f02c3e",
   "metadata": {},
   "outputs": [],
   "source": [
    "df = df_dict.get('2022-01-03').copy()\n",
    "side = 'bid'"
   ]
  },
  {
   "cell_type": "code",
   "execution_count": null,
   "id": "4bd051b6-355e-4651-a5bc-32da8e6b4d2c",
   "metadata": {},
   "outputs": [],
   "source": [
    "sim_df = sim_one_day_t2(df, target_code, side, 10, 5, verbose=True)"
   ]
  },
  {
   "cell_type": "code",
   "execution_count": null,
   "id": "bf4ad502-ac48-420a-ada1-16fe6b58a1d8",
   "metadata": {},
   "outputs": [],
   "source": [
    "# Demonstrate one simulation\n",
    "\n",
    "row = sim_df.loc[293]\n",
    "res = plot_one_sim(day_df=df, ts=10, tm=5, side=side, row=row)\n",
    "print(row.to_dict())"
   ]
  },
  {
   "cell_type": "markdown",
   "id": "b10fcd36-db96-4dfb-9267-23ba81270e8c",
   "metadata": {},
   "source": [
    "---"
   ]
  },
  {
   "cell_type": "markdown",
   "id": "beb1b031-b798-4cab-a70f-b6475fcdaa24",
   "metadata": {},
   "source": [
    "### 3. Simulation over all on 1 set of parameters and calculate score"
   ]
  },
  {
   "cell_type": "code",
   "execution_count": null,
   "id": "fde45cb9-b659-4ffa-86aa-f6f69e666cde",
   "metadata": {},
   "outputs": [],
   "source": [
    "target_code = '0050'\n",
    "all_df = get_one_stock_data(stock_code=target_code)\n",
    "df_dict = {k: v.reset_index(drop=True) for k, v in all_df.groupby('date')}"
   ]
  },
  {
   "cell_type": "code",
   "execution_count": null,
   "id": "7c822d9c-adbb-4264-8afe-5b7e0c363395",
   "metadata": {},
   "outputs": [],
   "source": [
    "# 1 set of params\n",
    "i_ts, i_tm = 5, 1\n",
    "side = 'bid'"
   ]
  },
  {
   "cell_type": "code",
   "execution_count": null,
   "id": "09aa2d7b-9343-4cd8-a2d0-5e94c45fb277",
   "metadata": {
    "scrolled": true,
    "tags": []
   },
   "outputs": [],
   "source": [
    "# Multiprocessing\n",
    "params_ls = [[one_df, target_code, side, i_ts, i_tm, False] for d, one_df in df_dict.items()]\n",
    "st = datetime.datetime.now()\n",
    "log_info(f'Start simulation on {len(params_ls)} days')\n",
    "sim_df = pd.concat(pool_run_func(sim_one_day_t2, params_ls)).reset_index(drop=True)\n",
    "log_info(f'Done simulation - {(datetime.datetime.now() - st).total_seconds():.2f}s')"
   ]
  },
  {
   "cell_type": "code",
   "execution_count": null,
   "id": "d8dc65b7-dadc-453c-8f60-68246e8b661f",
   "metadata": {
    "scrolled": true,
    "tags": []
   },
   "outputs": [],
   "source": [
    "sim_df = sim_df.loc[sim_df['duration'] > 0, :].reset_index(drop=True)\n",
    "sim_df.loc[:, 'duration'] /= 1000\n",
    "sim_df.loc[:, 'score'] = sim_df[['pnl', 'duration']].apply(lambda x: obj(x[0], x[1]), axis=1)"
   ]
  },
  {
   "cell_type": "code",
   "execution_count": null,
   "id": "dd286566-aae5-43fd-9471-6104a7cdb07a",
   "metadata": {},
   "outputs": [],
   "source": [
    "filt_cond = sim_df['score'] < 50"
   ]
  },
  {
   "cell_type": "code",
   "execution_count": null,
   "id": "969ce9a9-6772-4d1b-828f-62f6dbee533a",
   "metadata": {
    "tags": []
   },
   "outputs": [],
   "source": [
    "fig, ax = plt.subplots(figsize=(16, 6))\n",
    "ax.hist(sim_df.loc[filt_cond, 'score'], bins=100, label='score')\n",
    "ax.grid(True)\n",
    "ax.set_title('Score', fontsize=14)\n",
    "fig.tight_layout()\n",
    "plt.show()"
   ]
  },
  {
   "cell_type": "code",
   "execution_count": null,
   "id": "6c3e252a-e2e1-4c0a-a0e1-9787e1cc9e59",
   "metadata": {},
   "outputs": [],
   "source": [
    "fig, ax = plt.subplots(figsize=(16, 6))\n",
    "ax.scatter(sim_df.loc[filt_cond, 'duration'], sim_df.loc[filt_cond, 'pnl'], label='Result')\n",
    "ax.grid(True)\n",
    "ax.set_title('PnL - Duration Plot', fontsize=14)\n",
    "fig.tight_layout()\n",
    "plt.show()"
   ]
  },
  {
   "cell_type": "markdown",
   "id": "c2ab80fe-0e4a-49a4-8d93-e689293ff4b8",
   "metadata": {},
   "source": [
    "---"
   ]
  },
  {
   "cell_type": "code",
   "execution_count": null,
   "id": "8d925b74-857b-40ea-97f7-41301226ed7d",
   "metadata": {},
   "outputs": [],
   "source": []
  },
  {
   "cell_type": "code",
   "execution_count": null,
   "id": "cb52ef91-2721-4ca3-b753-95bff1ba8480",
   "metadata": {},
   "outputs": [],
   "source": []
  },
  {
   "cell_type": "code",
   "execution_count": null,
   "id": "b2a2a712-c256-45e2-99e6-da7e40ce32f3",
   "metadata": {},
   "outputs": [],
   "source": []
  },
  {
   "cell_type": "code",
   "execution_count": null,
   "id": "2a06e0d8-b0b7-496f-a8ed-cc7d433d3db8",
   "metadata": {},
   "outputs": [],
   "source": []
  },
  {
   "cell_type": "code",
   "execution_count": null,
   "id": "1ab37c86-c162-48ce-99f1-e2869860d5d0",
   "metadata": {},
   "outputs": [],
   "source": []
  },
  {
   "cell_type": "code",
   "execution_count": null,
   "id": "41d51dfb-220e-4dff-aacc-d7fa5e1fc7d3",
   "metadata": {},
   "outputs": [],
   "source": []
  }
 ],
 "metadata": {
  "kernelspec": {
   "display_name": "Python 3 (ipykernel)",
   "language": "python",
   "name": "python3"
  },
  "language_info": {
   "codemirror_mode": {
    "name": "ipython",
    "version": 3
   },
   "file_extension": ".py",
   "mimetype": "text/x-python",
   "name": "python",
   "nbconvert_exporter": "python",
   "pygments_lexer": "ipython3",
   "version": "3.8.1"
  }
 },
 "nbformat": 4,
 "nbformat_minor": 5
}
